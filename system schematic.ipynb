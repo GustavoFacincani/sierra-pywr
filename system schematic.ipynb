{
 "cells": [
  {
   "cell_type": "code",
   "execution_count": 8,
   "metadata": {},
   "outputs": [
    {
     "data": {
      "text/plain": [
       "'system_schematic.gv.pdf'"
      ]
     },
     "execution_count": 8,
     "metadata": {},
     "output_type": "execute_result"
    }
   ],
   "source": [
    "import os\n",
    "from graphviz import Digraph\n",
    "import json\n",
    "\n",
    "fillcolors = {\n",
    "    'storage': 'blue',\n",
    "    'hydropower': 'red',\n",
    "    'instreamflowrequirement': 'green',\n",
    "    'catchment': 'lightblue'\n",
    "}\n",
    "\n",
    "fontcolors = {\n",
    "    'storage': 'white',\n",
    "    'hydropower': 'white',\n",
    "    'instreamflowrequirement': 'black'\n",
    "}\n",
    "\n",
    "dot = Digraph(comment='System')\n",
    "\n",
    "for basin in ['stanislaus', 'merced', 'san_joaquin']:\n",
    "    with open(os.path.join(basin, 'pywr_model.json')) as f:\n",
    "        model = json.load(f)\n",
    "        \n",
    "    for node in model['nodes']:\n",
    "        ntype = node['type'].lower()\n",
    "        fillcolor = fillcolors.get(ntype, 'white')\n",
    "        fontcolor = fontcolors.get(ntype, 'black')\n",
    "        shape = 'rect' if ntype == 'storage' else 'oval'\n",
    "        dot.node(node['name'], shape=shape,\n",
    "                 style='filled' if fillcolor else None, fillcolor=fillcolor, fontcolor=fontcolor)\n",
    "\n",
    "    dot.edges(model['edges'])\n",
    "    \n",
    "#     _dot = Digraph(name=basin)\n",
    "#     _dot.edges(model['edges'])\n",
    "#     _dot.render(os.path.join(basin, '{}_schematic.gv'.format(basin)), view=True)\n",
    "    \n",
    "\n",
    "connecting_edges = [\n",
    "    [\"San Joaquin River Outflow [node]\", \"San Joaquin-San Joaquin\"],\n",
    "    [\"Merced River Outflow [node]\", \"Merced-San Joaquin\"],\n",
    "    [\"STN-L-RIV2 Outflow [node]\", \"Stanislaus-San Joaquin\"],\n",
    "    [\"San Joaquin-San Joaquin\", \"Merced-San Joaquin\"],\n",
    "    [\"Merced-San Joaquin\", \"Stanislaus-San Joaquin\"],\n",
    "    [\"Stanislaus-San Joaquin\", \"Delta\"]\n",
    "]\n",
    "dot.edges(connecting_edges)\n",
    "dot.render('system_schematic.gv', view=True)"
   ]
  },
  {
   "cell_type": "code",
   "execution_count": null,
   "metadata": {},
   "outputs": [],
   "source": []
  }
 ],
 "metadata": {
  "kernelspec": {
   "display_name": "Python 3",
   "language": "python",
   "name": "python3"
  },
  "language_info": {
   "codemirror_mode": {
    "name": "ipython",
    "version": 3
   },
   "file_extension": ".py",
   "mimetype": "text/x-python",
   "name": "python",
   "nbconvert_exporter": "python",
   "pygments_lexer": "ipython3",
   "version": "3.7.3"
  }
 },
 "nbformat": 4,
 "nbformat_minor": 2
}
