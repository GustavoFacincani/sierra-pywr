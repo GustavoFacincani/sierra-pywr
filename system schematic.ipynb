{
 "cells": [
  {
   "cell_type": "code",
   "execution_count": 3,
   "metadata": {},
   "outputs": [],
   "source": [
    "import os\n",
    "from graphviz import Digraph\n",
    "import json"
   ]
  },
  {
   "cell_type": "code",
   "execution_count": 4,
   "metadata": {},
   "outputs": [
    {
     "name": "stderr",
     "output_type": "stream",
     "text": [
      "Error: Could not open \"stanislaus_schematic_monthly.gv.pdf\" for writing : Permission denied\r\n"
     ]
    },
    {
     "ename": "CalledProcessError",
     "evalue": "Command '['dot', '-Tpdf', '-O', 'stanislaus_schematic_monthly.gv']' returned non-zero exit status 1. [stderr: b'Error: Could not open \"stanislaus_schematic_monthly.gv.pdf\" for writing : Permission denied\\r\\n']",
     "output_type": "error",
     "traceback": [
      "\u001b[1;31m---------------------------------------------------------------------------\u001b[0m",
      "\u001b[1;31mCalledProcessError\u001b[0m                        Traceback (most recent call last)",
      "\u001b[1;32m<ipython-input-4-b4ba79258d64>\u001b[0m in \u001b[0;36m<module>\u001b[1;34m\u001b[0m\n\u001b[0;32m     90\u001b[0m                     \u001b[1;32mpass\u001b[0m\u001b[1;33m\u001b[0m\u001b[1;33m\u001b[0m\u001b[0m\n\u001b[0;32m     91\u001b[0m         \u001b[0m_dot\u001b[0m\u001b[1;33m.\u001b[0m\u001b[0medges\u001b[0m\u001b[1;33m(\u001b[0m\u001b[1;33m[\u001b[0m\u001b[0medge\u001b[0m\u001b[1;33m]\u001b[0m\u001b[1;33m)\u001b[0m\u001b[1;33m\u001b[0m\u001b[1;33m\u001b[0m\u001b[0m\n\u001b[1;32m---> 92\u001b[1;33m     \u001b[0m_dot\u001b[0m\u001b[1;33m.\u001b[0m\u001b[0mrender\u001b[0m\u001b[1;33m(\u001b[0m\u001b[0mos\u001b[0m\u001b[1;33m.\u001b[0m\u001b[0mpath\u001b[0m\u001b[1;33m.\u001b[0m\u001b[0mjoin\u001b[0m\u001b[1;33m(\u001b[0m\u001b[0mbasin\u001b[0m\u001b[1;33m,\u001b[0m \u001b[1;34m'{}_schematic{}.gv'\u001b[0m\u001b[1;33m.\u001b[0m\u001b[0mformat\u001b[0m\u001b[1;33m(\u001b[0m\u001b[0mbasin\u001b[0m\u001b[1;33m,\u001b[0m \u001b[1;34m''\u001b[0m \u001b[1;32mif\u001b[0m \u001b[1;32mnot\u001b[0m \u001b[0mversion\u001b[0m \u001b[1;32melse\u001b[0m \u001b[1;34m'_'\u001b[0m \u001b[1;33m+\u001b[0m \u001b[0mversion\u001b[0m\u001b[1;33m)\u001b[0m\u001b[1;33m)\u001b[0m\u001b[1;33m,\u001b[0m \u001b[0mview\u001b[0m\u001b[1;33m=\u001b[0m\u001b[1;32mTrue\u001b[0m\u001b[1;33m)\u001b[0m\u001b[1;33m\u001b[0m\u001b[1;33m\u001b[0m\u001b[0m\n\u001b[0m",
      "\u001b[1;32mc:\\users\\david\\appdata\\local\\programs\\python\\python37\\lib\\site-packages\\graphviz\\files.py\u001b[0m in \u001b[0;36mrender\u001b[1;34m(self, filename, directory, view, cleanup, format, renderer, formatter, quiet)\u001b[0m\n\u001b[0;32m    199\u001b[0m         rendered = backend.render(self._engine, format, filepath,\n\u001b[0;32m    200\u001b[0m                                   \u001b[0mrenderer\u001b[0m\u001b[1;33m=\u001b[0m\u001b[0mrenderer\u001b[0m\u001b[1;33m,\u001b[0m \u001b[0mformatter\u001b[0m\u001b[1;33m=\u001b[0m\u001b[0mformatter\u001b[0m\u001b[1;33m,\u001b[0m\u001b[1;33m\u001b[0m\u001b[1;33m\u001b[0m\u001b[0m\n\u001b[1;32m--> 201\u001b[1;33m                                   quiet=quiet)\n\u001b[0m\u001b[0;32m    202\u001b[0m \u001b[1;33m\u001b[0m\u001b[0m\n\u001b[0;32m    203\u001b[0m         \u001b[1;32mif\u001b[0m \u001b[0mcleanup\u001b[0m\u001b[1;33m:\u001b[0m\u001b[1;33m\u001b[0m\u001b[1;33m\u001b[0m\u001b[0m\n",
      "\u001b[1;32mc:\\users\\david\\appdata\\local\\programs\\python\\python37\\lib\\site-packages\\graphviz\\backend.py\u001b[0m in \u001b[0;36mrender\u001b[1;34m(engine, format, filepath, renderer, formatter, quiet)\u001b[0m\n\u001b[0;32m    198\u001b[0m     \u001b[1;32melse\u001b[0m\u001b[1;33m:\u001b[0m\u001b[1;33m\u001b[0m\u001b[1;33m\u001b[0m\u001b[0m\n\u001b[0;32m    199\u001b[0m         \u001b[0mcwd\u001b[0m \u001b[1;33m=\u001b[0m \u001b[1;32mNone\u001b[0m\u001b[1;33m\u001b[0m\u001b[1;33m\u001b[0m\u001b[0m\n\u001b[1;32m--> 200\u001b[1;33m     \u001b[0mrun\u001b[0m\u001b[1;33m(\u001b[0m\u001b[0mcmd\u001b[0m\u001b[1;33m,\u001b[0m \u001b[0mcapture_output\u001b[0m\u001b[1;33m=\u001b[0m\u001b[1;32mTrue\u001b[0m\u001b[1;33m,\u001b[0m \u001b[0mcwd\u001b[0m\u001b[1;33m=\u001b[0m\u001b[0mcwd\u001b[0m\u001b[1;33m,\u001b[0m \u001b[0mcheck\u001b[0m\u001b[1;33m=\u001b[0m\u001b[1;32mTrue\u001b[0m\u001b[1;33m,\u001b[0m \u001b[0mquiet\u001b[0m\u001b[1;33m=\u001b[0m\u001b[0mquiet\u001b[0m\u001b[1;33m)\u001b[0m\u001b[1;33m\u001b[0m\u001b[1;33m\u001b[0m\u001b[0m\n\u001b[0m\u001b[0;32m    201\u001b[0m     \u001b[1;32mreturn\u001b[0m \u001b[0mrendered\u001b[0m\u001b[1;33m\u001b[0m\u001b[1;33m\u001b[0m\u001b[0m\n\u001b[0;32m    202\u001b[0m \u001b[1;33m\u001b[0m\u001b[0m\n",
      "\u001b[1;32mc:\\users\\david\\appdata\\local\\programs\\python\\python37\\lib\\site-packages\\graphviz\\backend.py\u001b[0m in \u001b[0;36mrun\u001b[1;34m(cmd, input, capture_output, check, quiet, **kwargs)\u001b[0m\n\u001b[0;32m    164\u001b[0m     \u001b[1;32mif\u001b[0m \u001b[0mcheck\u001b[0m \u001b[1;32mand\u001b[0m \u001b[0mproc\u001b[0m\u001b[1;33m.\u001b[0m\u001b[0mreturncode\u001b[0m\u001b[1;33m:\u001b[0m\u001b[1;33m\u001b[0m\u001b[1;33m\u001b[0m\u001b[0m\n\u001b[0;32m    165\u001b[0m         raise CalledProcessError(proc.returncode, cmd,\n\u001b[1;32m--> 166\u001b[1;33m                                  output=out, stderr=err)\n\u001b[0m\u001b[0;32m    167\u001b[0m \u001b[1;33m\u001b[0m\u001b[0m\n\u001b[0;32m    168\u001b[0m     \u001b[1;32mreturn\u001b[0m \u001b[0mout\u001b[0m\u001b[1;33m,\u001b[0m \u001b[0merr\u001b[0m\u001b[1;33m\u001b[0m\u001b[1;33m\u001b[0m\u001b[0m\n",
      "\u001b[1;31mCalledProcessError\u001b[0m: Command '['dot', '-Tpdf', '-O', 'stanislaus_schematic_monthly.gv']' returned non-zero exit status 1. [stderr: b'Error: Could not open \"stanislaus_schematic_monthly.gv.pdf\" for writing : Permission denied\\r\\n']"
     ]
    }
   ],
   "source": [
    "fillcolors = {\n",
    "    'storage': 'blue',\n",
    "    'virtualstorage': 'blue',\n",
    "    'hydropower': 'red',\n",
    "    'piecewisehydropower': 'red',\n",
    "    'instreamflowrequirement': 'green',\n",
    "    'catchment': 'lightblue',\n",
    "    'output': 'black',\n",
    "    'breaklink': 'lightgrey'\n",
    "}\n",
    "\n",
    "fontcolors = {\n",
    "    'storage': 'white',\n",
    "    'virtualstorage': 'white',\n",
    "    'hydropower': 'white',\n",
    "    'piecewisehydropower': 'white',\n",
    "    'instreamflowrequirement': 'black',\n",
    "    'output': 'white'\n",
    "}\n",
    "\n",
    "# dot = Digraph(comment='System')\n",
    "\n",
    "basins = ['stanislaus', 'merced', 'san_joaquin']\n",
    "basins = ['stanislaus']\n",
    "version = None\n",
    "# version = 'cleaned'\n",
    "# version = 'simplified'\n",
    "version = 'monthly'\n",
    "\n",
    "for basin in basins:\n",
    "    filename = 'pywr_model'\n",
    "    if version:\n",
    "        filename += '_' + version\n",
    "    filename += '.json'\n",
    "    with open(os.path.join(basin, filename)) as f:\n",
    "        model = json.load(f)\n",
    "    _dot = Digraph(name=basin, comment=basin)\n",
    "    for node in model['nodes']:\n",
    "        \n",
    "        node_name = node['name']\n",
    "        if version == 'monthly':\n",
    "            if ' [output]' in node_name:\n",
    "                continue\n",
    "            parts = node_name.split('/')\n",
    "            if len(parts) > 1:\n",
    "                base_node_name, month = parts\n",
    "                if int(month) > 1 and not ('[original]' in node_name and int(month) == 2):\n",
    "                    continue\n",
    "        \n",
    "        ntype = node['type'].lower()\n",
    "        fillcolor = fillcolors.get(ntype, 'white')\n",
    "        fontcolor = fontcolors.get(ntype, 'black')\n",
    "        shape = 'rect' if ntype in ['storage', 'virtualstorage'] else 'oval'\n",
    "        style = 'filled' if fillcolor else ''\n",
    "        \n",
    "        if ntype == 'virtualstorage':\n",
    "            style += ',dashed'\n",
    "        \n",
    "        if version == 'monthly':\n",
    "            shape = 'oval'\n",
    "            if ntype == 'storage' or month == 2:\n",
    "                fillcolor = fillcolors.get('breaklink')\n",
    "                fontcolor = 'black'\n",
    "#             if '[link]' in node_name:\n",
    "#                 fillcolor = fillcolors.get('storage')\n",
    "#                 fontcolor = fontcolors.get('storage')\n",
    "        \n",
    "        _dot.node(node_name, shape=shape, style=style, fillcolor=fillcolor, fontcolor=fontcolor)\n",
    "        \n",
    "        if version == 'monthly' and ntype == 'virtualstorage':\n",
    "            _dot.edge(node_name.replace('/', ' [link]/'), node_name, style='dashed')\n",
    "#         dot.node(node['name'], shape='shape', style=style, fillcolor=fillcolor, fontcolor=fontcolor)\n",
    "\n",
    "#     dot.edges(model['edges'])\n",
    "\n",
    "    for edge in model['edges']:\n",
    "        if version == 'monthly':\n",
    "            n1, n2 = edge\n",
    "            try:\n",
    "                base_n1_name, m1 = n1.split('/')\n",
    "                base_n2_name, m2 = n2.split('/')\n",
    "                m1 = int(m1)\n",
    "                m2 = int(m2)\n",
    "                if (int(m1) > 1 or int(m2) > 1) and not (m1 == 1 and m2 == 2):\n",
    "                    continue\n",
    "            except:\n",
    "                if '[output]' in n2:\n",
    "                    continue\n",
    "                else:\n",
    "                    pass\n",
    "        _dot.edges([edge])\n",
    "    _dot.render(os.path.join(basin, '{}_schematic{}.gv'.format(basin, '' if not version else '_' + version)), view=True)"
   ]
  },
  {
   "cell_type": "code",
   "execution_count": null,
   "metadata": {},
   "outputs": [],
   "source": []
  },
  {
   "cell_type": "code",
   "execution_count": null,
   "metadata": {},
   "outputs": [],
   "source": []
  }
 ],
 "metadata": {
  "kernelspec": {
   "display_name": "Python 3",
   "language": "python",
   "name": "python3"
  },
  "language_info": {
   "codemirror_mode": {
    "name": "ipython",
    "version": 3
   },
   "file_extension": ".py",
   "mimetype": "text/x-python",
   "name": "python",
   "nbconvert_exporter": "python",
   "pygments_lexer": "ipython3",
   "version": "3.7.3"
  }
 },
 "nbformat": 4,
 "nbformat_minor": 2
}
