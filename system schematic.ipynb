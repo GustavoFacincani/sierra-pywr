{
 "cells": [
  {
   "cell_type": "code",
   "execution_count": 1,
   "metadata": {},
   "outputs": [],
   "source": [
    "import os\n",
    "from graphviz import Digraph\n",
    "import json"
   ]
  },
  {
   "cell_type": "code",
   "execution_count": 33,
   "metadata": {},
   "outputs": [],
   "source": [
    "fillcolors = {\n",
    "    'storage': 'blue',\n",
    "    'hydropower': 'red',\n",
    "    'piecewisehydropower'\n",
    "    'instreamflowrequirement': 'green',\n",
    "    'catchment': 'lightblue',\n",
    "    'output': 'black',\n",
    "    'breaklink': 'lightgrey'\n",
    "}\n",
    "\n",
    "fontcolors = {\n",
    "    'storage': 'white',\n",
    "    'hydropower': 'white',\n",
    "    'instreamflowrequirement': 'black',\n",
    "    'output': 'white'\n",
    "}\n",
    "\n",
    "# dot = Digraph(comment='System')\n",
    "\n",
    "basins = ['stanislaus', 'merced', 'san_joaquin']\n",
    "basins = ['stanislaus']\n",
    "suffix = '_simplified'\n",
    "\n",
    "for basin in basins:\n",
    "    with open(os.path.join(basin, 'pywr_model{}.json'.format(suffix))) as f:\n",
    "        model = json.load(f)\n",
    "    _dot = Digraph(name=basin, comment=basin)\n",
    "    for node in model['nodes']:\n",
    "        ntype = node['type'].lower()\n",
    "        fillcolor = fillcolors.get(ntype, 'white')\n",
    "        fontcolor = fontcolors.get(ntype, 'black')\n",
    "        shape = 'rect' if ntype == 'storage' else 'oval'\n",
    "        style = 'filled' if fillcolor else None\n",
    "        _dot.node(node['name'], shape=shape, style=style, fillcolor=fillcolor, fontcolor=fontcolor)\n",
    "#         dot.node(node['name'], shape='shape', style=style, fillcolor=fillcolor, fontcolor=fontcolor)\n",
    "\n",
    "#     dot.edges(model['edges'])\n",
    "    \n",
    "    _dot.edges(model['edges'])\n",
    "    _dot.render(os.path.join(basin, '{}_schematic{}.gv'.format(basin, suffix)), view=True)"
   ]
  },
  {
   "cell_type": "code",
   "execution_count": 31,
   "metadata": {},
   "outputs": [
    {
     "data": {
      "text/plain": [
       "'system_schematic.gv.pdf'"
      ]
     },
     "execution_count": 31,
     "metadata": {},
     "output_type": "execute_result"
    }
   ],
   "source": [
    "connecting_edges = [\n",
    "    [\"San Joaquin River Outflow [node]\", \"San Joaquin-San Joaquin\"],\n",
    "    [\"Merced River Outflow [node]\", \"Merced-San Joaquin\"],\n",
    "    [\"STN-L-RIV2 Outflow [node]\", \"Stanislaus-San Joaquin\"],\n",
    "    [\"San Joaquin-San Joaquin\", \"Merced-San Joaquin\"],\n",
    "    [\"Merced-San Joaquin\", \"Stanislaus-San Joaquin\"],\n",
    "    [\"Stanislaus-San Joaquin\", \"Delta\"]\n",
    "]\n",
    "dot.edges(connecting_edges)\n",
    "dot.render('system_schematic.gv', view=True)"
   ]
  },
  {
   "cell_type": "code",
   "execution_count": null,
   "metadata": {},
   "outputs": [],
   "source": []
  }
 ],
 "metadata": {
  "kernelspec": {
   "display_name": "Python 3",
   "language": "python",
   "name": "python3"
  },
  "language_info": {
   "codemirror_mode": {
    "name": "ipython",
    "version": 3
   },
   "file_extension": ".py",
   "mimetype": "text/x-python",
   "name": "python",
   "nbconvert_exporter": "python",
   "pygments_lexer": "ipython3",
   "version": "3.7.3"
  }
 },
 "nbformat": 4,
 "nbformat_minor": 2
}
