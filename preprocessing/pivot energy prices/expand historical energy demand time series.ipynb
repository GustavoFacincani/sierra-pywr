{
 "cells": [
  {
   "cell_type": "code",
   "execution_count": 1,
   "metadata": {},
   "outputs": [],
   "source": [
    "import pandas as pd\n",
    "from calendar import isleap\n",
    "\n",
    "df = pd.read_csv('../data/energy_netDemand.csv', index_col=[0], parse_dates=True)"
   ]
  },
  {
   "cell_type": "code",
   "execution_count": 46,
   "metadata": {},
   "outputs": [],
   "source": [
    "wys = range(2000, 2014)\n",
    "dates = []\n",
    "data = []\n",
    "for wy in wys:\n",
    "    for date, values in df.iterrows():\n",
    "        year = wy if date.month <= 9 else wy - 1\n",
    "        vals = [round(v*1000)/1000 for v in values]\n",
    "        dates.append(pd.Timestamp(year, date.month, date.day))\n",
    "        data.append(vals)\n",
    "        if isleap(year) and date.month == 2 and date.day == 28:\n",
    "            dates.append(pd.Timestamp(year, 2, 29))\n",
    "            data.append(vals)\n",
    "\n",
    "df_out = pd.DataFrame(data=data, index=dates)\n",
    "df_out.columns = df.columns\n",
    "df_out.index.names = ['Date']\n",
    "df_out.to_csv('../data/energy_net_demand.csv')"
   ]
  },
  {
   "cell_type": "code",
   "execution_count": 47,
   "metadata": {},
   "outputs": [
    {
     "data": {
      "text/plain": [
       "5114"
      ]
     },
     "execution_count": 47,
     "metadata": {},
     "output_type": "execute_result"
    }
   ],
   "source": [
    "len(df_out)"
   ]
  },
  {
   "cell_type": "code",
   "execution_count": null,
   "metadata": {},
   "outputs": [],
   "source": []
  }
 ],
 "metadata": {
  "kernelspec": {
   "display_name": "Python 3",
   "language": "python",
   "name": "python3"
  },
  "language_info": {
   "codemirror_mode": {
    "name": "ipython",
    "version": 3
   },
   "file_extension": ".py",
   "mimetype": "text/x-python",
   "name": "python",
   "nbconvert_exporter": "python",
   "pygments_lexer": "ipython3",
   "version": "3.7.3"
  }
 },
 "nbformat": 4,
 "nbformat_minor": 2
}
