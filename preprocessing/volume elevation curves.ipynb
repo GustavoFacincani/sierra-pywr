{
 "cells": [
  {
   "cell_type": "code",
   "execution_count": 14,
   "metadata": {},
   "outputs": [
    {
     "data": {
      "text/plain": [
       "[]"
      ]
     },
     "execution_count": 14,
     "metadata": {},
     "output_type": "execute_result"
    }
   ],
   "source": [
    "from bs4 import BeautifulSoup\n",
    "import requests\n",
    "\n",
    "\n",
    "tpl = 'http://cdec.water.ca.gov/dynamicapp/QueryDaily?s={res}&end=2018-09-30&span=365days'\n",
    "\n",
    "res = 'NDP'\n",
    "\n",
    "url = tpl.format(res=res)\n",
    "html_doc = requests.get(url, 'lxml').text\n",
    "soup = BeautifulSoup(html_doc, 'html.parser')"
   ]
  },
  {
   "cell_type": "code",
   "execution_count": 29,
   "metadata": {},
   "outputs": [
    {
     "data": {
      "text/plain": [
       "<ul id=\"nav_list\"> <li><a class=\"nav_level1_link\" href=\"/index.html\" id=\"home\">Home</a>\n",
       "<div class=\"nav_panel\">\n",
       "<ul>\n",
       "<li><a class=\"nav_p_heading\" href=\"/snow/\">California Cooperative Snow Surveys</a> </li>\n",
       "<!--   <li> <a href=\"http://www.water.ca.gov/drought/\">California Drought Information</a></li>-->\n",
       "<li><a class=\"nav_p_heading\" href=\"https://water.ca.gov/Programs/Flood-Management/Flood-Data/Climatology-and-Meteorology\">State Climatologist</a> </li>\n",
       "<li><a class=\"nav_p_heading\" href=\"https://water.ca.gov/Programs/Flood-Management/Flood-Data/Climatology-and-Meteorology\">State Meteorologist</a> </li>\n",
       "<li><a class=\"nav_p_heading\" href=\"https://water.ca.gov/Programs/Flood-Management\">Division of Flood Management</a> </li>\n",
       "<li><a class=\"nav_p_heading\" href=\"http://www.water.ca.gov/\">Department of Water Resources</a> </li>\n",
       "</ul></div></li>\n",
       "<li><a class=\"nav_level1_link\" href=\"/queryTools.html\">Query Tools</a>\n",
       "<div class=\"nav_panel\">\n",
       "<ul>\n",
       "<li><div class=\"inline\">Single Station:  <a class=\"inline\" href=\"/queryQuick.html\">Real-Time</a>  |  <a class=\"inline\" href=\"/queryDaily.html\">Daily</a>  |  <a class=\"inline\" href=\"/queryMonthly.html\">Monthly</a></div><br/>\n",
       "<li><div class=\"inline\">Station Group:  <a class=\"inline\" href=\"/queryGroup.html\">Real-Time</a>  |  <a class=\"inline\" href=\"/queryDgroups.html\">Daily</a></div><br/>\n",
       "<li><a class=\"nav_p_heading\" href=\"/dynamicapp/QueryMM\">Daily Data (Monthly Summary)</a><br/>\n",
       "<li><a class=\"nav_p_heading\" href=\"/dynamicapp/QueryWY\">Monthly Data by Water Year</a><br/>\n",
       "<li><a class=\"nav_p_heading\" href=\"/dynamicapp/selectQuery\">Historical Data (Hourly,Event,Daily,Monthly)</a><br/>\n",
       "<li><div style=\"display:inline\">Historical Data:  <a class=\"nav_p_heading\" href=\"/dynamicapp/wsSensorData\" style=\"display:inline\">JSON and CSV format</a>  |  <a class=\"nav_p_heading\" href=\"/cgi-progs/querySHEF\" style=\"display:inline\">SHEF Format</a></div><br/>\n",
       "<li><a class=\"nav_p_heading\" href=\"/dynamicapp/groupform\">Historical Data (JSON and CSV format-Station Group)</a> <br/> <br/>\n",
       "</li></li></li></li></li></li></li></ul>\n",
       "<ul>\n",
       "<li><div style=\"display:inline\">Single Station Plots:  <a class=\"nav_p_heading\" href=\"/dynamicapp/sensorplots?dur_code=E\" style=\"display:inline\">Real-Time</a>  |  <a class=\"nav_p_heading\" href=\"/dynamicapp/sensorplots?dur_code=D\" style=\"display:inline\">Daily</a></div><br/>\n",
       "<li><div style=\"display:inline\">Single Group Plots:  <a class=\"nav_p_heading\" href=\"/dynamicapp/groupplots?dur_code=E\" style=\"display:inline\">Real-Time</a>  |  <a class=\"nav_p_heading\" href=\"/dynamicapp/groupplots?dur_code=D\" style=\"display:inline\">Daily</a></div><br/>\n",
       "</li></li></ul>\n",
       "<ul>\n",
       "<li><a class=\"nav_p_heading\" href=\"/dynamicapp/staSearch\">CDEC Station Search</a><br/>\n",
       "<li><a class=\"nav_p_heading\" href=\"/cdecstation/\">CDEC Station Locator Map</a><br/>\n",
       "</li></li></ul></div></li>\n",
       "<li><a class=\"nav_level1_link\" href=\"/snow_rain.html\">Precipitation</a>\n",
       "<div class=\"nav_panel\">\n",
       "<ul>\n",
       "<li><a class=\"nav_p_heading\" href=\"/reportapp/javareports?name=DLYPCP\">Daily 24-hour rainfall totals for selected automatic-reporting rain gages:</a>\n",
       "<div class=\"nav_p_description\"><a href=\"/reportapp/javareports?name=DLYPCP\" style=\"display:inline\">Current</a></div>\n",
       "<li><a class=\"nav_p_heading\" href=\"/reportapp/javareports?name=PRECIPSUM\">Monthly precipitation summary only (by hydrologic area/river basin):</a>\n",
       "<div class=\"nav_p_description\"><a href=\"/reportapp/javareports?name=PRECIPSUM\" style=\"display:inline\">Current</a></div>\n",
       "<li><a class=\"nav_p_heading\" href=\"/reportapp/javareports?name=PRECIPSUM.BSN\">Monthly precipitation summary only (by hydrologic area/river basin):</a>\n",
       "<div class=\"nav_p_description\"><a href=\"/reportapp/javareports?name=PRECIPSUM.BSN\" style=\"display:inline\">Current</a></div>\n",
       "<li><a class=\"nav_p_heading\" href=\"/reportapp/javareports?name=PRECIPMON\">Listing of monthly precip data only <b>(alphabetical order)</b>:</a>\n",
       "<div class=\"nav_p_description\"><a href=\"/reportapp/javareports?name=PRECIPMON\" style=\"display:inline\">Current</a></div>\n",
       "<li><div class=\"nav_p_description\"><a class=\"nav_p_heading\" href=\"/dynamicapp/groupplots?groupid=8SP&amp;dur_code=D&amp;end_date=now&amp;span=14days\">14 day plots of northern Sierra:</a>\n",
       "<a href=\"/dynamicapp/groupplots?groupid=8SP&amp;dur_code=D&amp;end_date=now&amp;span=14days\" style=\"display:inline\">8 stations precip</a> | <a href=\"/reportapp/javareports?name=8STATIONHIST\">8 stations historical</a></div></li>\n",
       "</li></li></li></li></ul>\n",
       "<ul>\n",
       "<li><a class=\"nav_p_heading\" href=\"/reportapp/javareports?name=PRECIPDAY\">Daily precipitation summary <b>(by hydrologic area/river basin)</b>:</a>\n",
       "<div class=\"nav_p_description\"><a class=\"inline\" href=\"/reportapp/javareports?name=PRECIPDAY\">Current</a></div>\n",
       "<li><a class=\"nav_p_heading\" href=\"/reportapp/javareports?name=PLOT_FSI.pdf\">San Joaquin 5 station precipitation index water year plot:</a>\n",
       "<div class=\"nav_p_description\"><a class=\"inline\" href=\"/reportapp/javareports?name=PLOT_FSI.pdf\">Current</a></div>\n",
       "<li><a class=\"nav_p_heading\" href=\"/reportapp/javareports?name=PLOT_ESI.pdf\">Northern Sierra 8 Station Precipitation Index Water Year Plot (PDF):</a>\n",
       "<div class=\"nav_p_description\"><a class=\"inline\" href=\"/reportapp/javareports?name=PLOT_ESI.pdf\">Current</a></div>\n",
       "<li><a class=\"nav_p_heading\" href=\"/reportapp/javareports?name=PLOT_TSI.pdf\">Tulare Basin 6 Station Precipitation Index Water Year Plot (PDF):</a>\n",
       "<div class=\"nav_p_description\"><a class=\"inline\" href=\"/reportapp/javareports?name=PLOT_TSI.pdf\">Current</a></div>\n",
       "<li><a <li=\"\" class=\"nav_p_heading\">\n",
       "<div class=\"inline\">Precipitation Charts Including Historical Strong El Nino Years (PDF): <br>\n",
       "<a class=\"inline\" href=\"/reportapp/javareports?name=PLOT_ESI_HIST.pdf\">8-Station</a> | <a class=\"inline\" href=\"/reportapp/javareports?name=PLOT_FSI_HIST.pdf\">5-Station</a></br></div></a> | <a class=\"inline\" href=\"/reportapp/javareports?name=PLOT_TSI_HIST.pdf\">6-Station <a class=\"inline\" href=\"/reportapp/javareports?name=PLOT_TSI.pdf\"></a></a></li></li></li></li></li></ul></div></li></ul>"
      ]
     },
     "execution_count": 29,
     "metadata": {},
     "output_type": "execute_result"
    }
   ],
   "source": [
    "soup.find('ul')"
   ]
  },
  {
   "cell_type": "code",
   "execution_count": null,
   "metadata": {},
   "outputs": [],
   "source": []
  }
 ],
 "metadata": {
  "kernelspec": {
   "display_name": "Python 3",
   "language": "python",
   "name": "python3"
  },
  "language_info": {
   "codemirror_mode": {
    "name": "ipython",
    "version": 3
   },
   "file_extension": ".py",
   "mimetype": "text/x-python",
   "name": "python",
   "nbconvert_exporter": "python",
   "pygments_lexer": "ipython3",
   "version": "3.7.3"
  }
 },
 "nbformat": 4,
 "nbformat_minor": 2
}
