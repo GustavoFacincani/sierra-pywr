{
 "cells": [
  {
   "cell_type": "code",
   "execution_count": 2,
   "metadata": {},
   "outputs": [],
   "source": [
    "import os\n",
    "import pandas as pd\n",
    "import matplotlib.pyplot as plt"
   ]
  },
  {
   "cell_type": "code",
   "execution_count": 10,
   "metadata": {},
   "outputs": [
    {
     "name": "stdout",
     "output_type": "stream",
     "text": [
      "../data/Stanislaus River/Scenarios/Livneh/runoff\\tot_runoff_sb01.csv\n",
      "../data/Stanislaus River/Scenarios/Livneh/runoff\\tot_runoff_sb02.csv\n",
      "../data/Stanislaus River/Scenarios/Livneh/runoff\\tot_runoff_sb03.csv\n",
      "../data/Stanislaus River/Scenarios/Livneh/runoff\\tot_runoff_sb04.csv\n",
      "../data/Stanislaus River/Scenarios/Livneh/runoff\\tot_runoff_sb05.csv\n",
      "../data/Stanislaus River/Scenarios/Livneh/runoff\\tot_runoff_sb06.csv\n",
      "../data/Stanislaus River/Scenarios/Livneh/runoff\\tot_runoff_sb07.csv\n",
      "../data/Stanislaus River/Scenarios/Livneh/runoff\\tot_runoff_sb08.csv\n",
      "../data/Stanislaus River/Scenarios/Livneh/runoff\\tot_runoff_sb09.csv\n",
      "../data/Stanislaus River/Scenarios/Livneh/runoff\\tot_runoff_sb10.csv\n",
      "../data/Stanislaus River/Scenarios/Livneh/runoff\\tot_runoff_sb11.csv\n",
      "../data/Stanislaus River/Scenarios/Livneh/runoff\\tot_runoff_sb12.csv\n",
      "../data/Stanislaus River/Scenarios/Livneh/runoff\\tot_runoff_sb13.csv\n",
      "../data/Stanislaus River/Scenarios/Livneh/runoff\\tot_runoff_sb14.csv\n",
      "../data/Stanislaus River/Scenarios/Livneh/runoff\\tot_runoff_sb15.csv\n",
      "../data/Stanislaus River/Scenarios/Livneh/runoff\\tot_runoff_sb16.csv\n",
      "../data/Stanislaus River/Scenarios/Livneh/runoff\\tot_runoff_sb17.csv\n",
      "../data/Stanislaus River/Scenarios/Livneh/runoff\\tot_runoff_sb18.csv\n",
      "../data/Stanislaus River/Scenarios/Livneh/runoff\\tot_runoff_sb19.csv\n",
      "../data/Stanislaus River/Scenarios/Livneh/runoff\\tot_runoff_sb20.csv\n",
      "../data/Stanislaus River/Scenarios/Livneh/runoff\\tot_runoff_sb21.csv\n",
      "../data/Stanislaus River/Scenarios/Livneh/runoff\\tot_runoff_sb22.csv\n",
      "../data/Stanislaus River/Scenarios/Livneh/runoff\\tot_runoff_sb23.csv\n",
      "../data/Stanislaus River/Scenarios/Livneh/runoff\\tot_runoff_sb24.csv\n",
      "../data/Stanislaus River/Scenarios/Livneh/runoff\\tot_runoff_sb25.csv\n"
     ]
    }
   ],
   "source": [
    "alphas = {}\n",
    "for m in range(1, 13):\n",
    "    alphas[m] = {}\n",
    "    \n",
    "    if m >= 3 and m <= 9:\n",
    "        for m2 in range(m, 9+1):\n",
    "            alphas[m][m2] = 0.5 if m == 3 else 1\n",
    "\n",
    "# Initial pre-processing\n",
    "debug = False\n",
    "month_columns = ['{:02}'.format(i) for i in range(1,13)]\n",
    "for basin in ['Stanislaus River']:\n",
    "    for scenario in ['Livneh']:\n",
    "        runoff_dir = '../data/{}/Scenarios/{}/runoff'.format(basin, scenario)\n",
    "#         print(runoff_dir)\n",
    "        runoff_dir_monthly = runoff_dir + '_monthly'\n",
    "        runoff_dir_monthly_forecasts = runoff_dir_monthly + '_forecasts'\n",
    "        if not os.path.exists(runoff_dir_monthly):\n",
    "            os.makedirs(runoff_dir_monthly)\n",
    "        if not os.path.exists(runoff_dir_monthly_forecasts):\n",
    "            os.makedirs(runoff_dir_monthly_forecasts)\n",
    "        for filename in os.listdir(runoff_dir):\n",
    "            filepath = os.path.join(runoff_dir, filename)\n",
    "            print(filepath)\n",
    "            df = pd.read_csv(filepath, parse_dates=True, index_col=0)\n",
    "                        \n",
    "            # Aggregate to monthly\n",
    "            df2 = df.groupby([lambda x: x.year, lambda x: x.month]).sum()\n",
    "            df2.index.names = ['year', 'month']\n",
    "            \n",
    "            # Monthly mean\n",
    "            df_mean = df2.groupby('month').mean()\n",
    "#             print(df_mean)\n",
    "            \n",
    "            vals = []\n",
    "            for i, (year, month) in enumerate(df2.index):\n",
    "                qnext = df2['flw'].iloc[i:i+12].values\n",
    "                if len(qnext) < 12:\n",
    "                    break\n",
    "                    \n",
    "                next_months = [i+month for i in range(12)]\n",
    "                next_months = [m if m < 13 else m - 12 for m in next_months]\n",
    "                qnext_avg = [df_mean['flw'].loc[m] for m in next_months]\n",
    "                \n",
    "                # CORE FORECASTING ROUTINE\n",
    "                next_months_qfcst = []\n",
    "                for j, m in enumerate(next_months):\n",
    "                    alpha = alphas[month].get(m, 0)\n",
    "                    fcst = alpha*qnext[j] + (1-alpha)*qnext_avg[j]\n",
    "                    next_months_qfcst.append(fcst)\n",
    "                \n",
    "                vals.append(next_months_qfcst)\n",
    "            \n",
    "            index = pd.to_datetime(['{}-{}-01'.format(i[0], i[1]) for i in df2.index[:len(vals)]])\n",
    "            df3 = pd.DataFrame(index=index, data=vals, columns=month_columns)\n",
    "            df3.index.name = 'Date'\n",
    "            df3.to_csv(os.path.join(runoff_dir_monthly_forecasts, filename))\n",
    "            \n",
    "            if debug:\n",
    "#                 print(df3.head())\n",
    "#                 fig, ax = plt.subplots(figsize=(12,5))\n",
    "#                 df3.plot(ax=ax)\n",
    "#                 plt.show()\n",
    "                break"
   ]
  },
  {
   "cell_type": "code",
   "execution_count": null,
   "metadata": {},
   "outputs": [],
   "source": []
  }
 ],
 "metadata": {
  "kernelspec": {
   "display_name": "Python 3",
   "language": "python",
   "name": "python3"
  },
  "language_info": {
   "codemirror_mode": {
    "name": "ipython",
    "version": 3
   },
   "file_extension": ".py",
   "mimetype": "text/x-python",
   "name": "python",
   "nbconvert_exporter": "python",
   "pygments_lexer": "ipython3",
   "version": "3.7.3"
  }
 },
 "nbformat": 4,
 "nbformat_minor": 2
}
