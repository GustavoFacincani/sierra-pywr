{
 "cells": [
  {
   "cell_type": "code",
   "execution_count": 3,
   "metadata": {},
   "outputs": [],
   "source": [
    "import os\n",
    "import pandas as pd\n",
    "import matplotlib.pyplot as plt\n",
    "from itertools import product\n",
    "# from tqdm import tqdm_notebook as tqdm\n",
    "from tqdm.notebook import tqdm"
   ]
  },
  {
   "cell_type": "code",
   "execution_count": 4,
   "metadata": {},
   "outputs": [],
   "source": [
    "scenarios = ['Livneh']\n",
    "gcms = ['HadGEM2-ES', 'CNRM-CM5', 'CanESM2', 'MIROC5']\n",
    "rcps = ['85']\n",
    "gcm_rcps = ['{}_rcp{}'.format(g, r) for g, r in product(gcms, rcps)]\n",
    "scenarios += gcm_rcps\n",
    "\n",
    "basins = ['Stanislaus River']"
   ]
  },
  {
   "cell_type": "code",
   "execution_count": 10,
   "metadata": {},
   "outputs": [
    {
     "data": {
      "application/vnd.jupyter.widget-view+json": {
       "model_id": "2b05bc81d1dd4bec8b94e9995c0fe6a2",
       "version_major": 2,
       "version_minor": 0
      },
      "text/plain": [
       "HBox(children=(IntProgress(value=0, layout=Layout(flex='2'), max=5), HTML(value='')), layout=Layout(display='i…"
      ]
     },
     "metadata": {},
     "output_type": "display_data"
    },
    {
     "data": {
      "application/vnd.jupyter.widget-view+json": {
       "model_id": "83dbc3f697a74ead9b817cafa59ba28b",
       "version_major": 2,
       "version_minor": 0
      },
      "text/plain": [
       "HBox(children=(IntProgress(value=0, description='Stanislaus River, Livneh', layout=Layout(flex='2'), max=25, s…"
      ]
     },
     "metadata": {},
     "output_type": "display_data"
    },
    {
     "name": "stdout",
     "output_type": "stream",
     "text": [
      "\n"
     ]
    },
    {
     "data": {
      "application/vnd.jupyter.widget-view+json": {
       "model_id": "09cadfdc636849319133a3a348b3faee",
       "version_major": 2,
       "version_minor": 0
      },
      "text/plain": [
       "HBox(children=(IntProgress(value=0, description='Stanislaus River, HadGEM2-ES_rcp85', layout=Layout(flex='2'),…"
      ]
     },
     "metadata": {},
     "output_type": "display_data"
    },
    {
     "name": "stdout",
     "output_type": "stream",
     "text": [
      "\n"
     ]
    },
    {
     "data": {
      "application/vnd.jupyter.widget-view+json": {
       "model_id": "e147e97f8ab240c084dc512d08135c9e",
       "version_major": 2,
       "version_minor": 0
      },
      "text/plain": [
       "HBox(children=(IntProgress(value=0, description='Stanislaus River, CNRM-CM5_rcp85', layout=Layout(flex='2'), m…"
      ]
     },
     "metadata": {},
     "output_type": "display_data"
    },
    {
     "name": "stdout",
     "output_type": "stream",
     "text": [
      "\n"
     ]
    },
    {
     "data": {
      "application/vnd.jupyter.widget-view+json": {
       "model_id": "7518d4224af34794a24a6b288a5485ba",
       "version_major": 2,
       "version_minor": 0
      },
      "text/plain": [
       "HBox(children=(IntProgress(value=0, description='Stanislaus River, CanESM2_rcp85', layout=Layout(flex='2'), ma…"
      ]
     },
     "metadata": {},
     "output_type": "display_data"
    },
    {
     "name": "stdout",
     "output_type": "stream",
     "text": [
      "\n"
     ]
    },
    {
     "data": {
      "application/vnd.jupyter.widget-view+json": {
       "model_id": "199faf6276e04c60ab650e6f9d844695",
       "version_major": 2,
       "version_minor": 0
      },
      "text/plain": [
       "HBox(children=(IntProgress(value=0, description='Stanislaus River, MIROC5_rcp85', layout=Layout(flex='2'), max…"
      ]
     },
     "metadata": {},
     "output_type": "display_data"
    },
    {
     "name": "stdout",
     "output_type": "stream",
     "text": [
      "\n",
      "\n"
     ]
    }
   ],
   "source": [
    "alphas = {}\n",
    "for m in range(1, 13):\n",
    "    alphas[m] = {}\n",
    "    \n",
    "    if m >= 3 and m <= 9:\n",
    "        for m2 in range(m, 9+1):\n",
    "            alphas[m][m2] = 0.5 if m == 3 else 1\n",
    "\n",
    "# Initial pre-processing\n",
    "debug = False\n",
    "month_columns = ['{:02}'.format(i) for i in range(1,13)]\n",
    "basin_scenarios = list(product(basins, scenarios))\n",
    "for basin, scenario in tqdm(basin_scenarios, ncols=800):\n",
    "    runoff_dir = '../../data/{}/Scenarios/{}/runoff'.format(basin, scenario)\n",
    "#         print(runoff_dir)\n",
    "    runoff_dir_monthly = runoff_dir + '_monthly'\n",
    "    runoff_dir_monthly_forecasts = runoff_dir_monthly + '_forecasts'\n",
    "    if not os.path.exists(runoff_dir_monthly):\n",
    "        os.makedirs(runoff_dir_monthly)\n",
    "    if not os.path.exists(runoff_dir_monthly_forecasts):\n",
    "        os.makedirs(runoff_dir_monthly_forecasts)\n",
    "    for filename in tqdm(os.listdir(runoff_dir), desc='{}, {}'.format(basin, scenario), ncols=800):\n",
    "        filepath = os.path.join(runoff_dir, filename)\n",
    "#         print(filepath)\n",
    "        df = pd.read_csv(filepath, parse_dates=True, index_col=0)\n",
    "\n",
    "        # Aggregate to monthly\n",
    "        df2 = df.groupby([lambda x: x.year, lambda x: x.month]).sum()\n",
    "        df2.index.names = ['year', 'month']\n",
    "\n",
    "        # Monthly mean\n",
    "        df_mean = df2.groupby('month').mean()\n",
    "#             print(df_mean)\n",
    "\n",
    "        vals = []\n",
    "        for i, (year, month) in enumerate(df2.index):\n",
    "            qnext = df2['flw'].iloc[i:i+12].values\n",
    "            if len(qnext) < 12:\n",
    "                break\n",
    "\n",
    "            next_months = [i+month for i in range(12)]\n",
    "            next_months = [m if m < 13 else m - 12 for m in next_months]\n",
    "            qnext_avg = [df_mean['flw'].loc[m] for m in next_months]\n",
    "\n",
    "            # CORE FORECASTING ROUTINE\n",
    "            next_months_qfcst = []\n",
    "            for j, m in enumerate(next_months):\n",
    "                alpha = alphas[month].get(m, 0)\n",
    "                fcst = alpha*qnext[j] + (1-alpha)*qnext_avg[j]\n",
    "                next_months_qfcst.append(fcst)\n",
    "\n",
    "            vals.append(next_months_qfcst)\n",
    "\n",
    "        index = pd.to_datetime(['{}-{}-01'.format(i[0], i[1]) for i in df2.index[:len(vals)]])\n",
    "        df3 = pd.DataFrame(index=index, data=vals, columns=month_columns)\n",
    "        df3.index.name = 'Date'\n",
    "        df3.to_csv(os.path.join(runoff_dir_monthly_forecasts, filename))\n",
    "\n",
    "        if debug:\n",
    "#             print(df3.head())\n",
    "#             fig, ax = plt.subplots(figsize=(12,5))\n",
    "#             df3.plot(ax=ax)\n",
    "#             plt.show()\n",
    "            break"
   ]
  },
  {
   "cell_type": "code",
   "execution_count": null,
   "metadata": {},
   "outputs": [],
   "source": []
  }
 ],
 "metadata": {
  "kernelspec": {
   "display_name": "Python 3",
   "language": "python",
   "name": "python3"
  }
 },
 "nbformat": 4,
 "nbformat_minor": 2
}
