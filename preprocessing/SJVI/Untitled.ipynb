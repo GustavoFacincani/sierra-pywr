{
 "cells": [
  {
   "cell_type": "code",
   "execution_count": 21,
   "metadata": {},
   "outputs": [
    {
     "data": {
      "text/plain": [
       "year\n",
       "1981    2.319824\n",
       "1982    6.076605\n",
       "1983    7.913319\n",
       "1984    4.326542\n",
       "1985    2.243236\n",
       "Name: SJVI, dtype: float64"
      ]
     },
     "execution_count": 21,
     "metadata": {},
     "output_type": "execute_result"
    }
   ],
   "source": [
    "import pandas as pd\n",
    "sjvi = pd.read_csv('SJVI.csv', index_col=0, squeeze=True)\n",
    "sjvi.index.name = 'year'\n",
    "sjvi.head()"
   ]
  },
  {
   "cell_type": "code",
   "execution_count": 23,
   "metadata": {},
   "outputs": [],
   "source": [
    "dates = pd.date_range('{}-10-01'.format(sjvi.index[0]), '{}-09-30'.format(sjvi.index[-1]), freq='D')"
   ]
  },
  {
   "cell_type": "code",
   "execution_count": 29,
   "metadata": {},
   "outputs": [
    {
     "data": {
      "text/html": [
       "<div>\n",
       "<style scoped>\n",
       "    .dataframe tbody tr th:only-of-type {\n",
       "        vertical-align: middle;\n",
       "    }\n",
       "\n",
       "    .dataframe tbody tr th {\n",
       "        vertical-align: top;\n",
       "    }\n",
       "\n",
       "    .dataframe thead th {\n",
       "        text-align: right;\n",
       "    }\n",
       "</style>\n",
       "<table border=\"1\" class=\"dataframe\">\n",
       "  <thead>\n",
       "    <tr style=\"text-align: right;\">\n",
       "      <th></th>\n",
       "      <th>SJVI</th>\n",
       "    </tr>\n",
       "    <tr>\n",
       "      <th>Date</th>\n",
       "      <th></th>\n",
       "    </tr>\n",
       "  </thead>\n",
       "  <tbody>\n",
       "    <tr>\n",
       "      <th>1981-10-01</th>\n",
       "      <td>2.319824</td>\n",
       "    </tr>\n",
       "    <tr>\n",
       "      <th>1981-10-02</th>\n",
       "      <td>2.319824</td>\n",
       "    </tr>\n",
       "    <tr>\n",
       "      <th>1981-10-03</th>\n",
       "      <td>2.319824</td>\n",
       "    </tr>\n",
       "    <tr>\n",
       "      <th>1981-10-04</th>\n",
       "      <td>2.319824</td>\n",
       "    </tr>\n",
       "    <tr>\n",
       "      <th>1981-10-05</th>\n",
       "      <td>2.319824</td>\n",
       "    </tr>\n",
       "  </tbody>\n",
       "</table>\n",
       "</div>"
      ],
      "text/plain": [
       "                SJVI\n",
       "Date                \n",
       "1981-10-01  2.319824\n",
       "1981-10-02  2.319824\n",
       "1981-10-03  2.319824\n",
       "1981-10-04  2.319824\n",
       "1981-10-05  2.319824"
      ]
     },
     "execution_count": 29,
     "metadata": {},
     "output_type": "execute_result"
    }
   ],
   "source": [
    "df = pd.DataFrame(index=dates)\n",
    "df['year'] = df.index.year\n",
    "df = df['year'].map(sjvi.to_dict()).to_frame()\n",
    "df.index.name = 'Date'\n",
    "df.columns = ['SJVI']\n",
    "df.head()"
   ]
  },
  {
   "cell_type": "code",
   "execution_count": 30,
   "metadata": {},
   "outputs": [],
   "source": [
    "df.to_csv('SJVI_daily.csv')"
   ]
  },
  {
   "cell_type": "code",
   "execution_count": null,
   "metadata": {},
   "outputs": [],
   "source": []
  }
 ],
 "metadata": {
  "kernelspec": {
   "display_name": "Python 3",
   "language": "python",
   "name": "python3"
  },
  "language_info": {
   "codemirror_mode": {
    "name": "ipython",
    "version": 3
   },
   "file_extension": ".py",
   "mimetype": "text/x-python",
   "name": "python",
   "nbconvert_exporter": "python",
   "pygments_lexer": "ipython3",
   "version": "3.7.3"
  }
 },
 "nbformat": 4,
 "nbformat_minor": 2
}
