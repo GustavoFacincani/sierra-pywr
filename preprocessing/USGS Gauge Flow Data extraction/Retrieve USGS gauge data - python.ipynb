{
 "cells": [
  {
   "cell_type": "code",
   "execution_count": 2,
   "metadata": {},
   "outputs": [
    {
     "name": "stdout",
     "output_type": "stream",
     "text": [
      "retrieving USGS 11264500 MERCED R A HAPPY ISLES BRIDGE NR YOSEMITE CA (16%)\n",
      "retrieving USGS 11266500 MERCED R A POHONO BRIDGE NR YOSEMITE CA (33%)\n",
      "retrieving USGS 11270900 MERCED R BL MERCED FALLS DAM NR SNELL CA (50%)\n",
      "retrieving USGS 11271290 MERCED R A SHAFFER BRIDGE NR CRESSEY CA (66%)\n",
      "retrieving USGS 11272500 MERCED R NR STEVINSON CA (83%)\n",
      "retrieving USGS 11269700 EXCHEQUER PH A EXCHEQUER CA (100%)\n",
      "done!\n"
     ]
    }
   ],
   "source": [
    "%matplotlib inline\n",
    "import os\n",
    "import hydrofunctions as hf\n",
    "import pandas as pd\n",
    "import matplotlib.pyplot as plt\n",
    "DEBUG = False\n",
    "\n",
    "basin = 'merced'\n",
    "# basin = 'upper san joaquin'\n",
    "# basin = 'tuolumne'\n",
    "\n",
    "variable = 'streamflow'\n",
    "pc = '00060'\n",
    "\n",
    "# variable = 'storage'\n",
    "# pc = '00054'\n",
    "\n",
    "if not os.path.exists(basin):\n",
    "    os.mkdir(basin)\n",
    "\n",
    "gages = pd.read_excel('USGS gauges.xlsx', sheet_name='{} - {}'.format(basin, variable), header=None, squeeze=True)\n",
    "\n",
    "dfs = []\n",
    "if DEBUG:\n",
    "    gages = gages[:3]\n",
    "for i, gage in enumerate(gages):\n",
    "    gage_number = gage.strip().split(' ')[1]\n",
    "    print('retrieving {} ({}%)'.format(gage, int((i+1) / len(gages) * 100)))\n",
    "    herring = hf.NWIS(gage_number, 'dv', '1975-10-01', '2018-09-30', parameterCd=pc)\n",
    "    try:\n",
    "        herring.get_data()\n",
    "    except Exception as err:\n",
    "        print('Error: ', gage_number, err)\n",
    "        continue\n",
    "    df = herring.df()\n",
    "    s = df[df.columns[0]]\n",
    "    s.name = gage\n",
    "    dfs.append(s)\n",
    "df = pd.concat(dfs, axis=1)\n",
    "df.index.name = 'Date'\n",
    "if DEBUG:\n",
    "    print(df.head())\n",
    "    df.plot()\n",
    "    plt.show()\n",
    "else:\n",
    "    if variable == 'storage':\n",
    "        df = df * 1233.5 / 1e6\n",
    "        path = '../../data/{} River/gauges/storage_mcm.csv'.format(basin.title())\n",
    "        df.to_csv(path)\n",
    "    else:\n",
    "        path = '../../data/{} River/gauges/streamflow_cfs.csv'.format(basin.title())\n",
    "        df.to_csv(path)\n",
    "print('done!')"
   ]
  },
  {
   "cell_type": "code",
   "execution_count": null,
   "metadata": {},
   "outputs": [],
   "source": []
  }
 ],
 "metadata": {
  "kernelspec": {
   "display_name": "Python 3",
   "language": "python",
   "name": "python3"
  },
  "language_info": {
   "codemirror_mode": {
    "name": "ipython",
    "version": 3
   },
   "file_extension": ".py",
   "mimetype": "text/x-python",
   "name": "python",
   "nbconvert_exporter": "python",
   "pygments_lexer": "ipython3",
   "version": "3.7.3"
  }
 },
 "nbformat": 4,
 "nbformat_minor": 2
}
